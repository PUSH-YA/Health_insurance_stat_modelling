{
 "cells": [
  {
   "cell_type": "markdown",
   "id": "469deb3b-1687-4d95-b210-31b71b814d46",
   "metadata": {},
   "source": [
    "# **Final Report** #"
   ]
  },
  {
   "cell_type": "markdown",
   "id": "a5177bde-419b-4678-ac51-d017cef33437",
   "metadata": {
    "tags": []
   },
   "source": [
    "## **Decoding Health Insurance:** *A Study of Key Cost Influencers* ##"
   ]
  },
  {
   "cell_type": "markdown",
   "id": "bf783033-210a-4084-8d6f-78c6f3d2f180",
   "metadata": {},
   "source": [
    "## **Introduction** ##"
   ]
  },
  {
   "cell_type": "markdown",
   "id": "aa2ce947-c871-4eb5-bd04-36b7adb7bc35",
   "metadata": {},
   "source": [
    "Understanding the factors that influence annual health insurance charges is a crucial aspect of healthcare economics. Health insurance is vital for mitigating the financial risks associated with illness and ensuring access to healthcare. However, the cost of insurance is influenced by a myriad of personal and geographic factors, making the dynamics of insurance charges complex and multifaceted. This complexity has been the subject of extensive research, contributing to a rich body of literature that explores the various determinants of health insurance premiums.\n",
    "\n",
    "#### **Research Questions** ####\n",
    "\n",
    "This study aims to examine the following questions:\n",
    "\n",
    "1) ***How do individual characteristics like age, gender, BMI, number of children, and smoking status, along with geographic factors, impact annual health insurance charges?***\n",
    "\n",
    "2) ***Can we develop a predictive model that accurately forecasts these charges based on the aforementioned factors?***"
   ]
  },
  {
   "cell_type": "markdown",
   "id": "7eae9b11-b1fd-48b4-8179-d041a5b8d788",
   "metadata": {},
   "source": [
    "Our study will add to related current existing literature, specifically two significant scientific studies  have delved into these areas:\n",
    "\n",
    "1. A study titled \"Increasing health insurance costs and the decline in insurance coverage\" explores the effect of rising health insurance premiums on coverage rates. This research used probit regression and instrumental variable techniques to estimate the association between rising local health insurance costs and the falling propensity for individuals to have any health insurance coverage, considering a variety of economic, demographic, and policy covariates: https://pubmed.ncbi.nlm.nih.gov/16033490/\n",
    "\n",
    "2. Another important study, \"Factors Associated With Increases in US Health Care Spending, 1996-2013,\" examines the relationship between changes in population size and age structure and spending growth. This study used a five-factor decomposition method to analyze the relative effect of various factors on changes in health spending from 1996-2013: https://jamanetwork.com/journals/jama/fullarticle/2661579\n",
    "\n",
    "By integrating insights from these studies, our research will contribute to a better understanding of the dynamics of healthcare insurance costs and the factors influencing them."
   ]
  },
  {
   "cell_type": "markdown",
   "id": "356a9ecc-fbae-4921-b1d4-bdc45334fa6f",
   "metadata": {},
   "source": [
    "To address these questions, we will utilize a dataset sourced from Kaggle, created by Arun Jangir and analyzed by Willian Oliveira. This dataset comprises real-world data collected from direct conversations with individuals in hospitals and through the examination of online hospital data regarding insurance on a global scale. It is a comprehensive resource that reflects actual scenarios and cases in the healthcare insurance domain, ensuring real-world applicability. It can be accessed via Kaggle: [Kaggle Dataset](https://www.kaggle.com/datasets/willianoliveiragibin/healthcare-insurance/data). \n",
    "\n",
    "This data, available under the CC0: Public Domain license, follows a comprehensive methodology: *reading, writing, downloading, analyzing, and discussing*. Its DOI, 10.34740/kaggle/dsv/6678394, ensures easy web access and it's slated for annual updates. Downloaded as a ```.csv``` file, the dataset is complete without missing values, pending further analysis. A descriptive overview is provided in the linked GitHub repository.\n",
    "\n",
    "https://github.com/PUSH-YA/Health_insurance_stat_modelling/blob/main/insurance.csv"
   ]
  },
  {
   "cell_type": "markdown",
   "id": "d0c9f396-ba47-4967-83ee-bee3da43ad13",
   "metadata": {
    "tags": []
   },
   "source": [
    "## **Methods and Results** ##"
   ]
  },
  {
   "cell_type": "markdown",
   "id": "9ffce203-7c21-45c6-9b6a-b994abb37970",
   "metadata": {},
   "source": [
    "#### **a) Exploratory Data Analysis (EDA)** ####"
   ]
  },
  {
   "cell_type": "code",
   "execution_count": 1,
   "id": "ba338fe6-3e78-4a6b-a46b-68edf548310e",
   "metadata": {
    "tags": [],
    "vscode": {
     "languageId": "r"
    }
   },
   "outputs": [
    {
     "name": "stderr",
     "output_type": "stream",
     "text": [
      "\n",
      "Attaching package: 'dplyr'\n",
      "\n",
      "\n",
      "The following objects are masked from 'package:stats':\n",
      "\n",
      "    filter, lag\n",
      "\n",
      "\n",
      "The following objects are masked from 'package:base':\n",
      "\n",
      "    intersect, setdiff, setequal, union\n",
      "\n",
      "\n",
      "-- \u001b[1mAttaching core tidyverse packages\u001b[22m ---------------------------------------------------------------- tidyverse 2.0.0 --\n",
      "\u001b[32mv\u001b[39m \u001b[34mforcats  \u001b[39m 1.0.0     \u001b[32mv\u001b[39m \u001b[34mstringr  \u001b[39m 1.5.0\n",
      "\u001b[32mv\u001b[39m \u001b[34mlubridate\u001b[39m 1.9.2     \u001b[32mv\u001b[39m \u001b[34mtibble   \u001b[39m 3.2.1\n",
      "\u001b[32mv\u001b[39m \u001b[34mpurrr    \u001b[39m 1.0.1     \u001b[32mv\u001b[39m \u001b[34mtidyr    \u001b[39m 1.3.0\n",
      "\u001b[32mv\u001b[39m \u001b[34mreadr    \u001b[39m 2.1.4     \n",
      "-- \u001b[1mConflicts\u001b[22m ---------------------------------------------------------------------------------- tidyverse_conflicts() --\n",
      "\u001b[31mx\u001b[39m \u001b[34mdplyr\u001b[39m::\u001b[32mfilter()\u001b[39m masks \u001b[34mstats\u001b[39m::filter()\n",
      "\u001b[31mx\u001b[39m \u001b[34mdplyr\u001b[39m::\u001b[32mlag()\u001b[39m    masks \u001b[34mstats\u001b[39m::lag()\n",
      "\u001b[36mi\u001b[39m Use the conflicted package (\u001b[3m\u001b[34m<http://conflicted.r-lib.org/>\u001b[39m\u001b[23m) to force all conflicts to become errors\n",
      "\n",
      "Attaching package: 'gridExtra'\n",
      "\n",
      "\n",
      "The following object is masked from 'package:dplyr':\n",
      "\n",
      "    combine\n",
      "\n",
      "\n",
      "Loading required package: Matrix\n",
      "\n",
      "\n",
      "Attaching package: 'Matrix'\n",
      "\n",
      "\n",
      "The following objects are masked from 'package:tidyr':\n",
      "\n",
      "    expand, pack, unpack\n",
      "\n",
      "\n",
      "Loaded glmnet 4.1-7\n",
      "\n",
      "Loading required package: carData\n",
      "\n",
      "\n",
      "Attaching package: 'car'\n",
      "\n",
      "\n",
      "The following object is masked from 'package:purrr':\n",
      "\n",
      "    some\n",
      "\n",
      "\n",
      "The following object is masked from 'package:dplyr':\n",
      "\n",
      "    recode\n",
      "\n",
      "\n"
     ]
    }
   ],
   "source": [
    "library(dplyr) # data wrangling\n",
    "library(ggplot2) # data visualisation\n",
    "library(tidyverse) # data wrangling & tidy\n",
    "library(gridExtra) # grid visualisation\n",
    "library(glmnet) # for lasso selection\n",
    "library(car) # for vif\n",
    "library(broom) # tidy() results\n"
   ]
  },
  {
   "cell_type": "code",
   "execution_count": 2,
   "id": "2b4607c5-96a5-4987-bddd-7901dd988228",
   "metadata": {
    "tags": [],
    "vscode": {
     "languageId": "r"
    }
   },
   "outputs": [
    {
     "data": {
      "text/html": [
       "<table class=\"dataframe\">\n",
       "<caption>A data.frame: 6 × 7</caption>\n",
       "<thead>\n",
       "\t<tr><th></th><th scope=col>age</th><th scope=col>sex</th><th scope=col>bmi</th><th scope=col>children</th><th scope=col>smoker</th><th scope=col>region</th><th scope=col>charges</th></tr>\n",
       "\t<tr><th></th><th scope=col>&lt;int&gt;</th><th scope=col>&lt;chr&gt;</th><th scope=col>&lt;dbl&gt;</th><th scope=col>&lt;int&gt;</th><th scope=col>&lt;chr&gt;</th><th scope=col>&lt;chr&gt;</th><th scope=col>&lt;dbl&gt;</th></tr>\n",
       "</thead>\n",
       "<tbody>\n",
       "\t<tr><th scope=row>1333</th><td>52</td><td>female</td><td>44.70</td><td>3</td><td>no </td><td>southwest</td><td>11411.685</td></tr>\n",
       "\t<tr><th scope=row>1334</th><td>50</td><td>male  </td><td>30.97</td><td>3</td><td>no </td><td>northwest</td><td>10600.548</td></tr>\n",
       "\t<tr><th scope=row>1335</th><td>18</td><td>female</td><td>31.92</td><td>0</td><td>no </td><td>northeast</td><td> 2205.981</td></tr>\n",
       "\t<tr><th scope=row>1336</th><td>18</td><td>female</td><td>36.85</td><td>0</td><td>no </td><td>southeast</td><td> 1629.833</td></tr>\n",
       "\t<tr><th scope=row>1337</th><td>21</td><td>female</td><td>25.80</td><td>0</td><td>no </td><td>southwest</td><td> 2007.945</td></tr>\n",
       "\t<tr><th scope=row>1338</th><td>61</td><td>female</td><td>29.07</td><td>0</td><td>yes</td><td>northwest</td><td>29141.360</td></tr>\n",
       "</tbody>\n",
       "</table>\n"
      ],
      "text/latex": [
       "A data.frame: 6 × 7\n",
       "\\begin{tabular}{r|lllllll}\n",
       "  & age & sex & bmi & children & smoker & region & charges\\\\\n",
       "  & <int> & <chr> & <dbl> & <int> & <chr> & <chr> & <dbl>\\\\\n",
       "\\hline\n",
       "\t1333 & 52 & female & 44.70 & 3 & no  & southwest & 11411.685\\\\\n",
       "\t1334 & 50 & male   & 30.97 & 3 & no  & northwest & 10600.548\\\\\n",
       "\t1335 & 18 & female & 31.92 & 0 & no  & northeast &  2205.981\\\\\n",
       "\t1336 & 18 & female & 36.85 & 0 & no  & southeast &  1629.833\\\\\n",
       "\t1337 & 21 & female & 25.80 & 0 & no  & southwest &  2007.945\\\\\n",
       "\t1338 & 61 & female & 29.07 & 0 & yes & northwest & 29141.360\\\\\n",
       "\\end{tabular}\n"
      ],
      "text/markdown": [
       "\n",
       "A data.frame: 6 × 7\n",
       "\n",
       "| <!--/--> | age &lt;int&gt; | sex &lt;chr&gt; | bmi &lt;dbl&gt; | children &lt;int&gt; | smoker &lt;chr&gt; | region &lt;chr&gt; | charges &lt;dbl&gt; |\n",
       "|---|---|---|---|---|---|---|---|\n",
       "| 1333 | 52 | female | 44.70 | 3 | no  | southwest | 11411.685 |\n",
       "| 1334 | 50 | male   | 30.97 | 3 | no  | northwest | 10600.548 |\n",
       "| 1335 | 18 | female | 31.92 | 0 | no  | northeast |  2205.981 |\n",
       "| 1336 | 18 | female | 36.85 | 0 | no  | southeast |  1629.833 |\n",
       "| 1337 | 21 | female | 25.80 | 0 | no  | southwest |  2007.945 |\n",
       "| 1338 | 61 | female | 29.07 | 0 | yes | northwest | 29141.360 |\n",
       "\n"
      ],
      "text/plain": [
       "     age sex    bmi   children smoker region    charges  \n",
       "1333 52  female 44.70 3        no     southwest 11411.685\n",
       "1334 50  male   30.97 3        no     northwest 10600.548\n",
       "1335 18  female 31.92 0        no     northeast  2205.981\n",
       "1336 18  female 36.85 0        no     southeast  1629.833\n",
       "1337 21  female 25.80 0        no     southwest  2007.945\n",
       "1338 61  female 29.07 0        yes    northwest 29141.360"
      ]
     },
     "metadata": {},
     "output_type": "display_data"
    }
   ],
   "source": [
    "url_path <- \"https://raw.githubusercontent.com/PUSH-YA/Health_insurance_stat_modelling/main/insurance.csv\"\n",
    "insurance_data <- read.csv(url_path)\n",
    "tail(insurance_data)"
   ]
  },
  {
   "cell_type": "code",
   "execution_count": 3,
   "id": "79417d85-5282-4fc4-bd29-db34a46f816e",
   "metadata": {
    "tags": [],
    "vscode": {
     "languageId": "r"
    }
   },
   "outputs": [
    {
     "name": "stdout",
     "output_type": "stream",
     "text": [
      "'data.frame':\t1338 obs. of  7 variables:\n",
      " $ age     : int  19 18 28 33 32 31 46 37 37 60 ...\n",
      " $ sex     : chr  \"female\" \"male\" \"male\" \"male\" ...\n",
      " $ bmi     : num  27.9 33.8 33 22.7 28.9 ...\n",
      " $ children: int  0 1 3 0 0 0 1 3 2 0 ...\n",
      " $ smoker  : chr  \"yes\" \"no\" \"no\" \"no\" ...\n",
      " $ region  : chr  \"southwest\" \"southeast\" \"southeast\" \"northwest\" ...\n",
      " $ charges : num  16885 1726 4449 21984 3867 ...\n"
     ]
    }
   ],
   "source": [
    "str(insurance_data)"
   ]
  },
  {
   "cell_type": "markdown",
   "id": "c00bdd2b-6b9c-407c-b1eb-bf8193336445",
   "metadata": {},
   "source": [
    "- **Number of Observations:** ``insurance.csv``  consists of 1338 rows, indicating individual insurance instances.\n",
    "- **Number of Variables:** 7 columns, each representing distinct attributes."
   ]
  },
  {
   "cell_type": "markdown",
   "id": "06734711-39e3-4668-8799-07ad3aac6e8b",
   "metadata": {},
   "source": [
    "| Variable  | Type                   | Description                                                                                   |\n",
    "|-----------|------------------------|-----------------------------------------------------------------------------------------------|\n",
    "| age       | Numeric (Integer)      | The age of the insured individual.                                                            |\n",
    "| sex       | Categorical (String)   | The gender of the insured. (\"male\" or \"female\")                                               |\n",
    "| bmi       | Numeric (Float)        | Body Mass Index, a value derived from the height and weight of an individual, indicating body fat. |\n",
    "| children  | Numeric (Integer)      | The number of children/dependents covered by the insurance policy.                            |\n",
    "| smoker    | Categorical (String)   | Indicates whether the insured person is a smoker. (\"yes\" or \"no\")                             |\n",
    "| region    | Categorical (String)   | The geographic area where the insurance coverage applies. One of four: *Northeast, Southeast, Northwest, Southwest* |\n",
    "| charges   | Numeric (Float)        | Annual health insurance charges for the insured individual.                                                |"
   ]
  },
  {
   "cell_type": "markdown",
   "id": "2170abac-1e78-4c80-9892-5d0e08d7abc2",
   "metadata": {},
   "source": [
    "There are no missing values or duplicate rows in the  dataset. We must transform this data is to convert all variables that were character into factors for better EDA and to be used as categorical variables in future model assessment. This includes the following variables: sex, smoker, region."
   ]
  },
  {
   "cell_type": "code",
   "execution_count": 4,
   "id": "947c5a13-e907-4ef9-b27d-b2bbc8dba9a2",
   "metadata": {
    "tags": [],
    "vscode": {
     "languageId": "r"
    }
   },
   "outputs": [
    {
     "name": "stdout",
     "output_type": "stream",
     "text": [
      "'data.frame':\t1338 obs. of  7 variables:\n",
      " $ age     : int  19 18 28 33 32 31 46 37 37 60 ...\n",
      " $ sex     : Factor w/ 2 levels \"female\",\"male\": 1 2 2 2 2 1 1 1 2 1 ...\n",
      " $ bmi     : num  27.9 33.8 33 22.7 28.9 ...\n",
      " $ children: int  0 1 3 0 0 0 1 3 2 0 ...\n",
      " $ smoker  : Factor w/ 2 levels \"no\",\"yes\": 2 1 1 1 1 1 1 1 1 1 ...\n",
      " $ region  : Factor w/ 4 levels \"northeast\",\"northwest\",..: 4 3 3 2 2 3 3 2 1 2 ...\n",
      " $ charges : num  16885 1726 4449 21984 3867 ...\n"
     ]
    }
   ],
   "source": [
    "# Convert character columns to factors\n",
    "insurance_data$sex <- as.factor(insurance_data$sex)\n",
    "insurance_data$smoker <- as.factor(insurance_data$smoker)\n",
    "insurance_data$region <- as.factor(insurance_data$region)\n",
    "str(insurance_data)"
   ]
  },
  {
   "cell_type": "markdown",
   "id": "8513c7db-fb69-45da-82e3-503454b254f1",
   "metadata": {},
   "source": [
    "We will now visualise the data where the categorical data (or that data that can be represented as categories) is represented with boxplots and the numerical data is represented with scatterplots. There was an analysis done on the numerical data and `smoker` seemed to be the confoduning factor present in them and as such has been highlighted in the graph."
   ]
  },
  {
   "cell_type": "code",
   "execution_count": 5,
   "id": "4fd3d538-0b3a-4627-82e6-c70f39ee3cfa",
   "metadata": {
    "tags": [],
    "vscode": {
     "languageId": "r"
    }
   },
   "outputs": [
    {
     "name": "stderr",
     "output_type": "stream",
     "text": [
      "Warning message in geom_smooth(method = \"lm\", conf.int = TRUE):\n",
      "\"\u001b[1m\u001b[22mIgnoring unknown parameters: `conf.int`\"\n",
      "Warning message in geom_smooth(method = \"lm\", conf.int = TRUE):\n",
      "\"\u001b[1m\u001b[22mIgnoring unknown parameters: `conf.int`\"\n",
      "\u001b[1m\u001b[22m`geom_smooth()` using formula = 'y ~ x'\n",
      "\u001b[1m\u001b[22m`geom_smooth()` using formula = 'y ~ x'\n"
     ]
    },
    {
     "data": {
      "image/png": "[encoded data removed]",
      "text/plain": [
       "plot without title"
      ]
     },
     "metadata": {
      "image/png": {
       "height": 600,
       "width": 720
      }
     },
     "output_type": "display_data"
    }
   ],
   "source": [
    "options(repr.plot.height = 10, repr.plot.width =12)\n",
    "\n",
    "## BOX PLOTS OF DIFFERENT  MEDICAL CHARGES BY SEX, SMOKER AND REGION (IN THAT ORDER)\n",
    "categorical_data <- insurance_data %>% mutate(children = as.factor(children)) \n",
    "categorical_vars <- c('sex', 'smoker', 'region', 'children')\n",
    "plots <- list()\n",
    "for(var in categorical_vars)\n",
    "    {\n",
    "    plots[[var]] <- ggplot(categorical_data, aes(x = .data[[var]], fill = .data[[var]], y = charges)) +\n",
    "          geom_boxplot() +\n",
    "          labs(\n",
    "            title = paste(\"Boxplots of medical insurance charges by \", var),\n",
    "            x = \"Medical insurance charge\",\n",
    "            y = \"Count\"\n",
    "          )\n",
    "}\n",
    "## SCATTER PLOTS OF DIFFERENT  MEDICAL CHARGES BY SEX, SMOKER AND REGION (IN THAT ORDER)\n",
    "numerical_vars <- c('age', 'bmi')\n",
    "numerical_scatter <- list()\n",
    "for(var in numerical_vars)\n",
    "    {\n",
    "    plots[[var]] <- ggplot(insurance_data, aes(x = .data[[var]], y = charges, color = .data[[\"smoker\"]])) +\n",
    "          geom_point() +\n",
    "        geom_smooth(method = 'lm', conf.int = TRUE) + \n",
    "          labs(\n",
    "            title = paste(\"Scatterplot of medical insurance charges against \", var),\n",
    "            x = var,\n",
    "            y = \"medical charges\"\n",
    "          )\n",
    "}\n",
    "grid.arrange(grobs = plots, ncol = 3)"
   ]
  },
  {
   "cell_type": "markdown",
   "id": "bd364c67-20d4-4f0b-a950-377d692dcc86",
   "metadata": {},
   "source": [
    "Based on the preliminary analysis of our graphs, we've chosen to include all variables in our study. The 'children' variable, showing no clear pattern, will be converted into a binary feature to indicate presence (1) or absence (0) of children. \n",
    "\n",
    "The values for the Northeast and Southeast are marginally higher compared to those for the Northwest and Southwest, so to better capture regional influences the 'region' variable will be simplified into two categories: \"East\" (Northeast and Southeast) and \"West\" (Northwest and Southwest).\n",
    "\n",
    "We will now convert the following categories into 1 and 0: `region == West` to 1 and `region == East` to 0 as well as convert `smoker==yes` to 1 and `smoker==no` to 0. Similarily will also convert `sex == male` to 1 and `sex==female` to 0."
   ]
  },
  {
   "cell_type": "code",
   "execution_count": 6,
   "id": "1f6646f7-b585-486f-838b-29ff1ba71549",
   "metadata": {
    "tags": [],
    "vscode": {
     "languageId": "r"
    }
   },
   "outputs": [],
   "source": [
    "insurance_data$children <- as.numeric(as.character(insurance_data$children))\n",
    "insurance_data$children <- ifelse(insurance_data$children > 0, 1, 0) # presence of children as 1\n",
    "insurance_data$smoker <- ifelse(insurance_data$smoker == \"yes\", 1, 0) # smoker yes as 1\n",
    "insurance_data$sex <- ifelse(insurance_data$sex == \"male\", 1, 0) # male as 1, female as 0"
   ]
  },
  {
   "cell_type": "code",
   "execution_count": 7,
   "id": "ac04c531-490b-47a4-b5dc-63eb81b8ce29",
   "metadata": {
    "tags": [],
    "vscode": {
     "languageId": "r"
    }
   },
   "outputs": [],
   "source": [
    "insurance_data$region <- ifelse(insurance_data$region %in% c(\"southeast\", \"northeast\"), \"East\", \"West\") %>% as.factor()\n",
    "insurance_data$region <- ifelse(insurance_data$region == \"West\", 1, 0)"
   ]
  },
  {
   "cell_type": "code",
   "execution_count": 8,
   "id": "92e9fcda-ff9c-4d85-893d-08fd4eda1bc7",
   "metadata": {
    "tags": [],
    "vscode": {
     "languageId": "r"
    }
   },
   "outputs": [
    {
     "data": {
      "text/html": [
       "<table class=\"dataframe\">\n",
       "<caption>A data.frame: 6 × 7</caption>\n",
       "<thead>\n",
       "\t<tr><th></th><th scope=col>age</th><th scope=col>sex</th><th scope=col>bmi</th><th scope=col>children</th><th scope=col>smoker</th><th scope=col>region</th><th scope=col>charges</th></tr>\n",
       "\t<tr><th></th><th scope=col>&lt;int&gt;</th><th scope=col>&lt;dbl&gt;</th><th scope=col>&lt;dbl&gt;</th><th scope=col>&lt;dbl&gt;</th><th scope=col>&lt;dbl&gt;</th><th scope=col>&lt;dbl&gt;</th><th scope=col>&lt;dbl&gt;</th></tr>\n",
       "</thead>\n",
       "<tbody>\n",
       "\t<tr><th scope=row>1</th><td>19</td><td>0</td><td>27.900</td><td>0</td><td>1</td><td>1</td><td>16884.924</td></tr>\n",
       "\t<tr><th scope=row>2</th><td>18</td><td>1</td><td>33.770</td><td>1</td><td>0</td><td>0</td><td> 1725.552</td></tr>\n",
       "\t<tr><th scope=row>3</th><td>28</td><td>1</td><td>33.000</td><td>1</td><td>0</td><td>0</td><td> 4449.462</td></tr>\n",
       "\t<tr><th scope=row>4</th><td>33</td><td>1</td><td>22.705</td><td>0</td><td>0</td><td>1</td><td>21984.471</td></tr>\n",
       "\t<tr><th scope=row>5</th><td>32</td><td>1</td><td>28.880</td><td>0</td><td>0</td><td>1</td><td> 3866.855</td></tr>\n",
       "\t<tr><th scope=row>6</th><td>31</td><td>0</td><td>25.740</td><td>0</td><td>0</td><td>0</td><td> 3756.622</td></tr>\n",
       "</tbody>\n",
       "</table>\n"
      ],
      "text/latex": [
       "A data.frame: 6 × 7\n",
       "\\begin{tabular}{r|lllllll}\n",
       "  & age & sex & bmi & children & smoker & region & charges\\\\\n",
       "  & <int> & <dbl> & <dbl> & <dbl> & <dbl> & <dbl> & <dbl>\\\\\n",
       "\\hline\n",
       "\t1 & 19 & 0 & 27.900 & 0 & 1 & 1 & 16884.924\\\\\n",
       "\t2 & 18 & 1 & 33.770 & 1 & 0 & 0 &  1725.552\\\\\n",
       "\t3 & 28 & 1 & 33.000 & 1 & 0 & 0 &  4449.462\\\\\n",
       "\t4 & 33 & 1 & 22.705 & 0 & 0 & 1 & 21984.471\\\\\n",
       "\t5 & 32 & 1 & 28.880 & 0 & 0 & 1 &  3866.855\\\\\n",
       "\t6 & 31 & 0 & 25.740 & 0 & 0 & 0 &  3756.622\\\\\n",
       "\\end{tabular}\n"
      ],
      "text/markdown": [
       "\n",
       "A data.frame: 6 × 7\n",
       "\n",
       "| <!--/--> | age &lt;int&gt; | sex &lt;dbl&gt; | bmi &lt;dbl&gt; | children &lt;dbl&gt; | smoker &lt;dbl&gt; | region &lt;dbl&gt; | charges &lt;dbl&gt; |\n",
       "|---|---|---|---|---|---|---|---|\n",
       "| 1 | 19 | 0 | 27.900 | 0 | 1 | 1 | 16884.924 |\n",
       "| 2 | 18 | 1 | 33.770 | 1 | 0 | 0 |  1725.552 |\n",
       "| 3 | 28 | 1 | 33.000 | 1 | 0 | 0 |  4449.462 |\n",
       "| 4 | 33 | 1 | 22.705 | 0 | 0 | 1 | 21984.471 |\n",
       "| 5 | 32 | 1 | 28.880 | 0 | 0 | 1 |  3866.855 |\n",
       "| 6 | 31 | 0 | 25.740 | 0 | 0 | 0 |  3756.622 |\n",
       "\n"
      ],
      "text/plain": [
       "  age sex bmi    children smoker region charges  \n",
       "1 19  0   27.900 0        1      1      16884.924\n",
       "2 18  1   33.770 1        0      0       1725.552\n",
       "3 28  1   33.000 1        0      0       4449.462\n",
       "4 33  1   22.705 0        0      1      21984.471\n",
       "5 32  1   28.880 0        0      1       3866.855\n",
       "6 31  0   25.740 0        0      0       3756.622"
      ]
     },
     "metadata": {},
     "output_type": "display_data"
    }
   ],
   "source": [
    "head(insurance_data)"
   ]
  },
  {
   "cell_type": "markdown",
   "id": "460d30ea-d40e-4ad3-b1ff-d2ce8a82aeaf",
   "metadata": {},
   "source": [
    "#### **b) Methods: Plan** ####"
   ]
  },
  {
   "cell_type": "markdown",
   "id": "e801c720-31a6-4c9f-9400-9f1ea405e9be",
   "metadata": {
    "vscode": {
     "languageId": "r"
    }
   },
   "source": [
    "We will perform multiple linear regression on the data. This means we will have the following assumptions:\n",
    "1. We assume linearity present in the data which is checked with visualisation and does seem to hold (Assignment 2).\n",
    "2. We assume that each residual is independent of the other one\n",
    "3. We assume that the conditional distribution of the residuals is normal which can be checked using the QQ plot of variables.\n",
    "4. We also assume homoscedasticity in residuals which can be checked using the residuals fitted plot\n",
    "5. We assume that there is no multi-collinearity present in the dataset. However, it may be redundant as we are already using regularisation to already check for relevant features.\n",
    "\n",
    "We will use a regularisation, specifically Lasso, for selecting the model and then perform statistical inference on the model. Lasso regularisation is preferred over forward selection and Ridge as it will consider all of the variables at once and only keep the relevant features and remove the irrelevant ones (0 coefficient ones). We are not using forward selection because there will be a lot of dummy variables resulting in $n << p$ where $n$ is variables and $p$ is parameters in the model and all the variables have to be considered together. There will be bias involved in the coefficients due to the regularisation and thus, `lasso_data` will be used to select the variables and `inference_data` will be used to fit the least squares method. $F-test$ will be performed on the inference model against the full model and the intercept-only model as a sanity check to ensure the selected variables are statistically significant.\n",
    "\n",
    "First we will start by splitting the data"
   ]
  },
  {
   "cell_type": "code",
   "execution_count": 9,
   "id": "587992fa-1135-4482-a480-cd76da76f883",
   "metadata": {
    "tags": [],
    "vscode": {
     "languageId": "r"
    }
   },
   "outputs": [
    {
     "name": "stdout",
     "output_type": "stream",
     "text": [
      "  age sex    bmi children smoker region   charges\n",
      "1  54   0 32.300        1      0      0 11512.405\n",
      "2  22   1 32.110        0      0      1  2055.325\n",
      "3  36   1 34.430        1      0      0  5584.306\n",
      "4  27   0 20.045        1      1      1 16420.495\n",
      "5  55   1 30.685        0      1      0 42303.692\n",
      "6  39   1 24.510        1      0      1  6710.192\n"
     ]
    },
    {
     "data": {
      "text/html": [
       "<table class=\"dataframe\">\n",
       "<caption>A data.frame: 6 × 7</caption>\n",
       "<thead>\n",
       "\t<tr><th></th><th scope=col>age</th><th scope=col>sex</th><th scope=col>bmi</th><th scope=col>children</th><th scope=col>smoker</th><th scope=col>region</th><th scope=col>charges</th></tr>\n",
       "\t<tr><th></th><th scope=col>&lt;int&gt;</th><th scope=col>&lt;dbl&gt;</th><th scope=col>&lt;dbl&gt;</th><th scope=col>&lt;dbl&gt;</th><th scope=col>&lt;dbl&gt;</th><th scope=col>&lt;dbl&gt;</th><th scope=col>&lt;dbl&gt;</th></tr>\n",
       "</thead>\n",
       "<tbody>\n",
       "\t<tr><th scope=row>1</th><td>49</td><td>1</td><td>28.690</td><td>1</td><td>0</td><td>1</td><td>10264.442</td></tr>\n",
       "\t<tr><th scope=row>2</th><td>45</td><td>1</td><td>30.495</td><td>1</td><td>0</td><td>1</td><td> 8413.463</td></tr>\n",
       "\t<tr><th scope=row>3</th><td>63</td><td>1</td><td>39.800</td><td>1</td><td>0</td><td>1</td><td>15170.069</td></tr>\n",
       "\t<tr><th scope=row>4</th><td>23</td><td>0</td><td>32.780</td><td>1</td><td>1</td><td>0</td><td>36021.011</td></tr>\n",
       "\t<tr><th scope=row>5</th><td>28</td><td>0</td><td>23.845</td><td>1</td><td>0</td><td>1</td><td> 4719.737</td></tr>\n",
       "\t<tr><th scope=row>6</th><td>18</td><td>1</td><td>31.680</td><td>1</td><td>1</td><td>0</td><td>34303.167</td></tr>\n",
       "</tbody>\n",
       "</table>\n"
      ],
      "text/latex": [
       "A data.frame: 6 × 7\n",
       "\\begin{tabular}{r|lllllll}\n",
       "  & age & sex & bmi & children & smoker & region & charges\\\\\n",
       "  & <int> & <dbl> & <dbl> & <dbl> & <dbl> & <dbl> & <dbl>\\\\\n",
       "\\hline\n",
       "\t1 & 49 & 1 & 28.690 & 1 & 0 & 1 & 10264.442\\\\\n",
       "\t2 & 45 & 1 & 30.495 & 1 & 0 & 1 &  8413.463\\\\\n",
       "\t3 & 63 & 1 & 39.800 & 1 & 0 & 1 & 15170.069\\\\\n",
       "\t4 & 23 & 0 & 32.780 & 1 & 1 & 0 & 36021.011\\\\\n",
       "\t5 & 28 & 0 & 23.845 & 1 & 0 & 1 &  4719.737\\\\\n",
       "\t6 & 18 & 1 & 31.680 & 1 & 1 & 0 & 34303.167\\\\\n",
       "\\end{tabular}\n"
      ],
      "text/markdown": [
       "\n",
       "A data.frame: 6 × 7\n",
       "\n",
       "| <!--/--> | age &lt;int&gt; | sex &lt;dbl&gt; | bmi &lt;dbl&gt; | children &lt;dbl&gt; | smoker &lt;dbl&gt; | region &lt;dbl&gt; | charges &lt;dbl&gt; |\n",
       "|---|---|---|---|---|---|---|---|\n",
       "| 1 | 49 | 1 | 28.690 | 1 | 0 | 1 | 10264.442 |\n",
       "| 2 | 45 | 1 | 30.495 | 1 | 0 | 1 |  8413.463 |\n",
       "| 3 | 63 | 1 | 39.800 | 1 | 0 | 1 | 15170.069 |\n",
       "| 4 | 23 | 0 | 32.780 | 1 | 1 | 0 | 36021.011 |\n",
       "| 5 | 28 | 0 | 23.845 | 1 | 0 | 1 |  4719.737 |\n",
       "| 6 | 18 | 1 | 31.680 | 1 | 1 | 0 | 34303.167 |\n",
       "\n"
      ],
      "text/plain": [
       "  age sex bmi    children smoker region charges  \n",
       "1 49  1   28.690 1        0      1      10264.442\n",
       "2 45  1   30.495 1        0      1       8413.463\n",
       "3 63  1   39.800 1        0      1      15170.069\n",
       "4 23  0   32.780 1        1      0      36021.011\n",
       "5 28  0   23.845 1        0      1       4719.737\n",
       "6 18  1   31.680 1        1      0      34303.167"
      ]
     },
     "metadata": {},
     "output_type": "display_data"
    }
   ],
   "source": [
    "set.seed(2401)\n",
    "\n",
    "nrows <- nrow(insurance_data) # number rows\n",
    "\n",
    "# data is shuffled to ensure independence between examples \n",
    "shuffled_data <- insurance_data[sample(1:nrows),]\n",
    "\n",
    "# Split the data into lasso and inference\n",
    "lasso_data <- shuffled_data %>% sample_frac(0.5)\n",
    "inference_data <- shuffled_data %>% setdiff(lasso_data)\n",
    "print(head(lasso_data))\n",
    "head(inference_data)"
   ]
  },
  {
   "cell_type": "markdown",
   "id": "61dcf8b3-67d9-4f7e-a10f-5b4b09bfec7f",
   "metadata": {
    "vscode": {
     "languageId": "r"
    }
   },
   "source": [
    "Now we will perform cross validation to use $\\lambda_{min}$ value that gives the lowest $MSE$ value for evaluating the model as it would provide the model that yields the lowest squared residuals. Then the Coefficients of the models are selected and $VIF$ among the selected variables is checked to ensure that there is no multicollinearity."
   ]
  },
  {
   "cell_type": "code",
   "execution_count": 10,
   "id": "5ace0f4c-43eb-458b-88e4-9834041688b0",
   "metadata": {
    "tags": [],
    "vscode": {
     "languageId": "r"
    }
   },
   "outputs": [
    {
     "data": {
      "text/plain": [
       "\n",
       "Call:  cv.glmnet(x = lasso_data %>% select(-charges) %>% as.matrix(),      y = lasso_data$charges %>% as.matrix(), alpha = 1) \n",
       "\n",
       "Measure: Mean-Squared Error \n",
       "\n",
       "    Lambda Index  Measure      SE Nonzero\n",
       "min  107.7    49 39226499 3840586       4\n",
       "1se 1102.8    24 42981516 4956361       3"
      ]
     },
     "metadata": {},
     "output_type": "display_data"
    },
    {
     "data": {
      "text/html": [
       "<style>\n",
       ".list-inline {list-style: none; margin:0; padding: 0}\n",
       ".list-inline>li {display: inline-block}\n",
       ".list-inline>li:not(:last-child)::after {content: \"\\00b7\"; padding: 0 .5ex}\n",
       "</style>\n",
       "<ol class=list-inline><li>'age'</li><li>'bmi'</li><li>'children'</li><li>'smoker'</li></ol>\n"
      ],
      "text/latex": [
       "\\begin{enumerate*}\n",
       "\\item 'age'\n",
       "\\item 'bmi'\n",
       "\\item 'children'\n",
       "\\item 'smoker'\n",
       "\\end{enumerate*}\n"
      ],
      "text/markdown": [
       "1. 'age'\n",
       "2. 'bmi'\n",
       "3. 'children'\n",
       "4. 'smoker'\n",
       "\n",
       "\n"
      ],
      "text/plain": [
       "[1] \"age\"      \"bmi\"      \"children\" \"smoker\"  "
      ]
     },
     "metadata": {},
     "output_type": "display_data"
    }
   ],
   "source": [
    "lasso_model <-\n",
    "    cv.glmnet(x = lasso_data %>% select(-charges) %>% as.matrix(), \n",
    "              y = lasso_data$charges %>% as.matrix(), \n",
    "              alpha = 1)\n",
    "lasso_model\n",
    "\n",
    "beta_lasso <- coef(lasso_model, s = \"lambda.min\")\n",
    "\n",
    "\n",
    "lasso_selected_covariates <- as_tibble(\n",
    "        as.matrix(beta_lasso),\n",
    "        rownames='covariate') %>%\n",
    "        filter(covariate != '(Intercept)' & abs(s1) !=0) %>%\n",
    "        pull(covariate)\n",
    "\n",
    "lasso_selected_covariates"
   ]
  },
  {
   "cell_type": "code",
   "execution_count": 11,
   "id": "e790c1bb-bf3d-48c8-bdf5-1827c20dbe54",
   "metadata": {
    "tags": [],
    "vscode": {
     "languageId": "r"
    }
   },
   "outputs": [
    {
     "name": "stderr",
     "output_type": "stream",
     "text": [
      "Warning message:\n",
      "\"\u001b[1m\u001b[22mUsing an external vector in selections was deprecated in tidyselect 1.1.0.\n",
      "\u001b[36mi\u001b[39m Please use `all_of()` or `any_of()` instead.\n",
      "  # Was:\n",
      "  data %>% select(lasso_selected_covariates)\n",
      "\n",
      "  # Now:\n",
      "  data %>% select(all_of(lasso_selected_covariates))\n",
      "\n",
      "See <https://tidyselect.r-lib.org/reference/faq-external-vector.html>.\"\n"
     ]
    },
    {
     "data": {
      "text/html": [
       "<style>\n",
       ".dl-inline {width: auto; margin:0; padding: 0}\n",
       ".dl-inline>dt, .dl-inline>dd {float: none; width: auto; display: inline-block}\n",
       ".dl-inline>dt::after {content: \":\\0020\"; padding-right: .5ex}\n",
       ".dl-inline>dt:not(:first-of-type) {padding-left: .5ex}\n",
       "</style><dl class=dl-inline><dt>age</dt><dd>1.01365379945301</dd><dt>bmi</dt><dd>1.01171700046954</dd><dt>children</dt><dd>1.00190263131551</dd><dt>smoker</dt><dd>1.00088087182658</dd></dl>\n"
      ],
      "text/latex": [
       "\\begin{description*}\n",
       "\\item[age] 1.01365379945301\n",
       "\\item[bmi] 1.01171700046954\n",
       "\\item[children] 1.00190263131551\n",
       "\\item[smoker] 1.00088087182658\n",
       "\\end{description*}\n"
      ],
      "text/markdown": [
       "age\n",
       ":   1.01365379945301bmi\n",
       ":   1.01171700046954children\n",
       ":   1.00190263131551smoker\n",
       ":   1.00088087182658\n",
       "\n"
      ],
      "text/plain": [
       "     age      bmi children   smoker \n",
       "1.013654 1.011717 1.001903 1.000881 "
      ]
     },
     "metadata": {},
     "output_type": "display_data"
    }
   ],
   "source": [
    "vif(lm(charges ~ ., select(lasso_data, lasso_selected_covariates, charges)))"
   ]
  },
  {
   "cell_type": "markdown",
   "id": "738b4da0-e1f6-4d35-aa65-c055cf94a687",
   "metadata": {
    "tags": [],
    "vscode": {
     "languageId": "r"
    }
   },
   "source": [
    "Based on the $VIF$ above, there does not seem to be presence of multicollinearity among any of the covariates present above. It does seem that Lasso selection ensured that there were no irrelevant or collinear factors (if there were).\n",
    "\n",
    "We will now use `lasso_selected_covariates` to make a multiple linear regression model with interaction parameters. Finally we will perform the inference on the model using `tidy`."
   ]
  },
  {
   "cell_type": "code",
   "execution_count": 12,
   "id": "71788e0d-9b85-4c91-a3f6-6e7c1406b77d",
   "metadata": {
    "tags": [],
    "vscode": {
     "languageId": "r"
    }
   },
   "outputs": [
    {
     "data": {
      "text/html": [
       "<table class=\"dataframe\">\n",
       "<caption>A data.frame: 6 × 5</caption>\n",
       "<thead>\n",
       "\t<tr><th></th><th scope=col>age</th><th scope=col>bmi</th><th scope=col>children</th><th scope=col>smoker</th><th scope=col>charges</th></tr>\n",
       "\t<tr><th></th><th scope=col>&lt;int&gt;</th><th scope=col>&lt;dbl&gt;</th><th scope=col>&lt;dbl&gt;</th><th scope=col>&lt;dbl&gt;</th><th scope=col>&lt;dbl&gt;</th></tr>\n",
       "</thead>\n",
       "<tbody>\n",
       "\t<tr><th scope=row>1</th><td>49</td><td>28.690</td><td>1</td><td>0</td><td>10264.442</td></tr>\n",
       "\t<tr><th scope=row>2</th><td>45</td><td>30.495</td><td>1</td><td>0</td><td> 8413.463</td></tr>\n",
       "\t<tr><th scope=row>3</th><td>63</td><td>39.800</td><td>1</td><td>0</td><td>15170.069</td></tr>\n",
       "\t<tr><th scope=row>4</th><td>23</td><td>32.780</td><td>1</td><td>1</td><td>36021.011</td></tr>\n",
       "\t<tr><th scope=row>5</th><td>28</td><td>23.845</td><td>1</td><td>0</td><td> 4719.737</td></tr>\n",
       "\t<tr><th scope=row>6</th><td>18</td><td>31.680</td><td>1</td><td>1</td><td>34303.167</td></tr>\n",
       "</tbody>\n",
       "</table>\n"
      ],
      "text/latex": [
       "A data.frame: 6 × 5\n",
       "\\begin{tabular}{r|lllll}\n",
       "  & age & bmi & children & smoker & charges\\\\\n",
       "  & <int> & <dbl> & <dbl> & <dbl> & <dbl>\\\\\n",
       "\\hline\n",
       "\t1 & 49 & 28.690 & 1 & 0 & 10264.442\\\\\n",
       "\t2 & 45 & 30.495 & 1 & 0 &  8413.463\\\\\n",
       "\t3 & 63 & 39.800 & 1 & 0 & 15170.069\\\\\n",
       "\t4 & 23 & 32.780 & 1 & 1 & 36021.011\\\\\n",
       "\t5 & 28 & 23.845 & 1 & 0 &  4719.737\\\\\n",
       "\t6 & 18 & 31.680 & 1 & 1 & 34303.167\\\\\n",
       "\\end{tabular}\n"
      ],
      "text/markdown": [
       "\n",
       "A data.frame: 6 × 5\n",
       "\n",
       "| <!--/--> | age &lt;int&gt; | bmi &lt;dbl&gt; | children &lt;dbl&gt; | smoker &lt;dbl&gt; | charges &lt;dbl&gt; |\n",
       "|---|---|---|---|---|---|\n",
       "| 1 | 49 | 28.690 | 1 | 0 | 10264.442 |\n",
       "| 2 | 45 | 30.495 | 1 | 0 |  8413.463 |\n",
       "| 3 | 63 | 39.800 | 1 | 0 | 15170.069 |\n",
       "| 4 | 23 | 32.780 | 1 | 1 | 36021.011 |\n",
       "| 5 | 28 | 23.845 | 1 | 0 |  4719.737 |\n",
       "| 6 | 18 | 31.680 | 1 | 1 | 34303.167 |\n",
       "\n"
      ],
      "text/plain": [
       "  age bmi    children smoker charges  \n",
       "1 49  28.690 1        0      10264.442\n",
       "2 45  30.495 1        0       8413.463\n",
       "3 63  39.800 1        0      15170.069\n",
       "4 23  32.780 1        1      36021.011\n",
       "5 28  23.845 1        0       4719.737\n",
       "6 18  31.680 1        1      34303.167"
      ]
     },
     "metadata": {},
     "output_type": "display_data"
    }
   ],
   "source": [
    "# make linear regression model -> perform anove  with full model -> do tidy for inference.\n",
    "inference_data <- inference_data %>% select(lasso_selected_covariates, charges)\n",
    "head(inference_data)"
   ]
  },
  {
   "cell_type": "code",
   "execution_count": 13,
   "id": "4fde1f99-e750-4bcf-bd39-ce44ec18e582",
   "metadata": {
    "tags": [],
    "vscode": {
     "languageId": "r"
    }
   },
   "outputs": [
    {
     "data": {
      "text/plain": [
       "\n",
       "Call:\n",
       "lm(formula = charges ~ ., data = inference_data)\n",
       "\n",
       "Residuals:\n",
       "     Min       1Q   Median       3Q      Max \n",
       "-12117.3  -2836.5   -823.1   1671.9  29543.2 \n",
       "\n",
       "Coefficients:\n",
       "             Estimate Std. Error t value Pr(>|t|)    \n",
       "(Intercept) -11826.29    1303.55  -9.072   <2e-16 ***\n",
       "age            251.04      16.57  15.154   <2e-16 ***\n",
       "bmi            317.66      37.54   8.461   <2e-16 ***\n",
       "children       856.86     467.54   1.833   0.0673 .  \n",
       "smoker       23934.86     562.77  42.530   <2e-16 ***\n",
       "---\n",
       "Signif. codes:  0 '***' 0.001 '**' 0.01 '*' 0.05 '.' 0.1 ' ' 1\n",
       "\n",
       "Residual standard error: 5949 on 664 degrees of freedom\n",
       "Multiple R-squared:  0.7611,\tAdjusted R-squared:  0.7597 \n",
       "F-statistic: 528.9 on 4 and 664 DF,  p-value: < 2.2e-16\n"
      ]
     },
     "metadata": {},
     "output_type": "display_data"
    },
    {
     "data": {
      "text/html": [
       "<table class=\"dataframe\">\n",
       "<caption>A tibble: 5 × 7</caption>\n",
       "<thead>\n",
       "\t<tr><th scope=col>term</th><th scope=col>estimate</th><th scope=col>std.error</th><th scope=col>statistic</th><th scope=col>p.value</th><th scope=col>conf.low</th><th scope=col>conf.high</th></tr>\n",
       "\t<tr><th scope=col>&lt;chr&gt;</th><th scope=col>&lt;dbl&gt;</th><th scope=col>&lt;dbl&gt;</th><th scope=col>&lt;dbl&gt;</th><th scope=col>&lt;dbl&gt;</th><th scope=col>&lt;dbl&gt;</th><th scope=col>&lt;dbl&gt;</th></tr>\n",
       "</thead>\n",
       "<tbody>\n",
       "\t<tr><td>(Intercept)</td><td>-11826.2901</td><td>1303.55060</td><td>-9.072367</td><td> 1.304197e-18</td><td>-14385.86786</td><td>-9266.7123</td></tr>\n",
       "\t<tr><td>age        </td><td>   251.0450</td><td>  16.56670</td><td>15.153593</td><td> 9.101212e-45</td><td>   218.51554</td><td>  283.5744</td></tr>\n",
       "\t<tr><td>bmi        </td><td>   317.6581</td><td>  37.54383</td><td> 8.460994</td><td> 1.689501e-16</td><td>   243.93916</td><td>  391.3770</td></tr>\n",
       "\t<tr><td>children   </td><td>   856.8581</td><td> 467.54240</td><td> 1.832685</td><td> 6.729701e-02</td><td>   -61.18156</td><td> 1774.8977</td></tr>\n",
       "\t<tr><td>smoker     </td><td> 23934.8593</td><td> 562.76963</td><td>42.530474</td><td>9.484241e-192</td><td> 22829.83690</td><td>25039.8817</td></tr>\n",
       "</tbody>\n",
       "</table>\n"
      ],
      "text/latex": [
       "A tibble: 5 × 7\n",
       "\\begin{tabular}{lllllll}\n",
       " term & estimate & std.error & statistic & p.value & conf.low & conf.high\\\\\n",
       " <chr> & <dbl> & <dbl> & <dbl> & <dbl> & <dbl> & <dbl>\\\\\n",
       "\\hline\n",
       "\t (Intercept) & -11826.2901 & 1303.55060 & -9.072367 &  1.304197e-18 & -14385.86786 & -9266.7123\\\\\n",
       "\t age         &    251.0450 &   16.56670 & 15.153593 &  9.101212e-45 &    218.51554 &   283.5744\\\\\n",
       "\t bmi         &    317.6581 &   37.54383 &  8.460994 &  1.689501e-16 &    243.93916 &   391.3770\\\\\n",
       "\t children    &    856.8581 &  467.54240 &  1.832685 &  6.729701e-02 &    -61.18156 &  1774.8977\\\\\n",
       "\t smoker      &  23934.8593 &  562.76963 & 42.530474 & 9.484241e-192 &  22829.83690 & 25039.8817\\\\\n",
       "\\end{tabular}\n"
      ],
      "text/markdown": [
       "\n",
       "A tibble: 5 × 7\n",
       "\n",
       "| term &lt;chr&gt; | estimate &lt;dbl&gt; | std.error &lt;dbl&gt; | statistic &lt;dbl&gt; | p.value &lt;dbl&gt; | conf.low &lt;dbl&gt; | conf.high &lt;dbl&gt; |\n",
       "|---|---|---|---|---|---|---|\n",
       "| (Intercept) | -11826.2901 | 1303.55060 | -9.072367 |  1.304197e-18 | -14385.86786 | -9266.7123 |\n",
       "| age         |    251.0450 |   16.56670 | 15.153593 |  9.101212e-45 |    218.51554 |   283.5744 |\n",
       "| bmi         |    317.6581 |   37.54383 |  8.460994 |  1.689501e-16 |    243.93916 |   391.3770 |\n",
       "| children    |    856.8581 |  467.54240 |  1.832685 |  6.729701e-02 |    -61.18156 |  1774.8977 |\n",
       "| smoker      |  23934.8593 |  562.76963 | 42.530474 | 9.484241e-192 |  22829.83690 | 25039.8817 |\n",
       "\n"
      ],
      "text/plain": [
       "  term        estimate    std.error  statistic p.value       conf.low    \n",
       "1 (Intercept) -11826.2901 1303.55060 -9.072367  1.304197e-18 -14385.86786\n",
       "2 age            251.0450   16.56670 15.153593  9.101212e-45    218.51554\n",
       "3 bmi            317.6581   37.54383  8.460994  1.689501e-16    243.93916\n",
       "4 children       856.8581  467.54240  1.832685  6.729701e-02    -61.18156\n",
       "5 smoker       23934.8593  562.76963 42.530474 9.484241e-192  22829.83690\n",
       "  conf.high \n",
       "1 -9266.7123\n",
       "2   283.5744\n",
       "3   391.3770\n",
       "4  1774.8977\n",
       "5 25039.8817"
      ]
     },
     "metadata": {},
     "output_type": "display_data"
    }
   ],
   "source": [
    "# Perform linear regression\n",
    "linear_model <- lm(charges ~ ., data = inference_data)\n",
    "\n",
    "# Display summary of the linear regression\n",
    "summary(linear_model)\n",
    "tidy(linear_model, conf.int = TRUE)"
   ]
  },
  {
   "cell_type": "markdown",
   "id": "c7dac7a9-6114-4d98-b4de-259f0c736ef0",
   "metadata": {},
   "source": [
    "The analysis of the linear regression model on the designated variables—age, BMI, children, and smoking status—reveals an adjusted R-squared value of 0.7597. This metric, indicative of the proportion of explained variance in the response variable, demonstrates a noteworthy level of model fit. The selected predictors, age, BMI, children, and smoking status, collectively contribute to explaining approximately 75.97% of the variability observed in the inference_data."
   ]
  },
  {
   "cell_type": "markdown",
   "id": "292ab10c-e26a-4c6b-a959-7dc5f6fab3e4",
   "metadata": {},
   "source": [
    "It is essential to exercise caution and recognize potential limitations in the evaluation process. The dataset was partitioned into training and testing sets using a 50% split. While this approach facilitates model validation, it introduces an element of randomness that may influence the performance metrics. Consequently, the robustness of the model's generalization to unseen data should be considered with prudence, recognizing the stochastic nature inherent in the data splitting methodology. This acknowledgment serves as a crucial element in the interpretation of the model's overall reliability and underscores the importance of further validation techniques to fortify the findings."
   ]
  },
  {
   "cell_type": "markdown",
   "id": "d131c4f2-af5b-46d6-b0c8-0c9ef6cf8c42",
   "metadata": {},
   "source": [
    "## **Discussion** ##\n",
    "\n",
    "- **Summary of Key Findings**: \n",
    "\n",
    "    Our comprehensive analysis underscores the multifaceted nature of health insurance charges. Beyond the primary factors of age, BMI, smoking status, number of children, and geographic location, we observed intricate interplays between these elements. For instance, the escalation of insurance costs with age is not only a reflection of increasing health risks but also possibly indicative of cumulative lifestyle impacts. Similarly, the influence of geographic factors extends beyond mere location, hinting at systemic disparities in healthcare access and quality.\n",
    "\n",
    "- **Interpretation and Implications**: \n",
    "\n",
    "    The strong correlation between age and insurance charges underscores the increased healthcare needs and risks associated with aging. This finding aligns with existing healthcare literature and emphasizes the importance of age-based considerations in health insurance policymaking. According to our model, on average the increase in age by 1 year increases the charges by approximately USD 251. Similarly, the association between high BMI and increased charges reflects the well-documented health risks of obesity, suggesting that public health initiatives aimed at managing weight could have significant implications for health insurance economics. Based on our model, an increase in bmi by 1 unit increases the insurance charges by approximately USD 317.\n",
    "\n",
    "    The influence of smoking status on insurance charges is particularly striking as on average being a smoker increases the price of insurance charges by approximately USD 24000. This underscores the long-term financial impact of smoking on individuals and healthcare systems, reinforcing the need for robust anti-smoking campaigns and support programs for smoking cessation.\n",
    "    \n",
    "    There is a large impact from having children on the monthly insurance charges however, based on the $t$-test above, the presence of children in the family is not statistically significant in determining the annual insurance charges. This also makes sense when looking at the visualisation as there did not seem to be much difference between the mean of the insurance with 0 children and the rest of the children\n",
    "    \n",
    "- **Model Assessment and Limitations**: \n",
    "\n",
    "    While our model provides valuable insights, it is important to recognize its limitations. The exclusion of factors such as pre-existing health conditions, detailed lifestyle choices, and income levels means that our analysis may not fully capture the complexity of health insurance pricing. Additionally, the model's reliance on the dataset's specific demographic distribution may limit its applicability to broader populations. \n",
    "    Our current model selection only used binary categorisation but in future methods we can use `Grouped-Lasso` or other methods for incorporating all the factors in our categorical variables to understand the impact of each of the factors in detail. \n",
    "    Our research also had assumptions associated with Linear regression, we can do a comprehensive analysis of the assumptions present and use models and techniques to address them properly. Currently only the multicollinearity among the variables was tested.\n",
    "    \n",
    "- **Future Research Directions**: \n",
    "\n",
    "    Future studies could enhance our understanding by integrating additional variables like lifestyle habits, mental health status, and detailed income information. Investigating the impact of health insurance policies and healthcare accessibility in different regions could also yield valuable insights. Additionally, applying machine learning algorithms could uncover more complex relationships within the data.\n",
    "    \n",
    "- **Concluding Thoughts**: \n",
    "\n",
    "    In conclusion, our study provides a comprehensive overview of factors influencing health insurance charges. The findings offer valuable insights for policymakers, insurance companies, and individuals, highlighting key areas for intervention and improvement. Our study serves as a foundation for further research in this vital aspect of public health and economics."
   ]
  },
  {
   "cell_type": "markdown",
   "id": "232a01c7-5dab-4989-b65c-ad37f2f36f92",
   "metadata": {},
   "source": [
    "## **References** ##  "
   ]
  },
  {
   "cell_type": "markdown",
   "id": "fca07641-01d1-409a-bdef-2cace06b51fe",
   "metadata": {},
   "source": [
    "Chernew M, Cutler DM, Keenan PS. \"Increasing health insurance costs and the decline in insurance coverage.\" Health Serv Res. 2005 Aug;40(4):1021-39. doi: 10.1111/j.1475-6773.2005.00409.x. PMID: 16033490; PMCID: PMC1361195.\n",
    "\n",
    "Dieleman JL, Squires E, Bui AL, et al. \"Factors Associated With Increases in US Health Care Spending, 1996-2013.\" JAMA. 2017;318(17):1668–1678. doi:10.1001/jama.2017.15927.\n"
   ]
  }
 ],
 "metadata": {
  "kernelspec": {
   "display_name": "R",
   "language": "R",
   "name": "ir"
  },
  "language_info": {
   "codemirror_mode": "r",
   "file_extension": ".r",
   "mimetype": "text/x-r-source",
   "name": "R",
   "pygments_lexer": "r",
   "version": "4.1.3"
  }
 },
 "nbformat": 4,
 "nbformat_minor": 5
}
